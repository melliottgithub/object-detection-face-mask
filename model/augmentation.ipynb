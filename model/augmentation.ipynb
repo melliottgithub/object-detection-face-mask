{
 "cells": [
  {
   "cell_type": "code",
   "execution_count": 1,
   "metadata": {},
   "outputs": [],
   "source": [
    "import json\n",
    "import random\n",
    "from PIL import Image\n",
    "from lib import image_augments as aug\n",
    "from lib.file_utils import create_directory\n",
    "from lib.images import list_images\n",
    "from lib import image_augments as aug\n",
    "from pascal import annotation_from_xml\n",
    "from pascal.utils import save_xml"
   ]
  },
  {
   "cell_type": "code",
   "execution_count": 2,
   "metadata": {},
   "outputs": [
    {
     "name": "stdout",
     "output_type": "stream",
     "text": [
      "{'MM': 'medical-mask', 'PM': 'person-mask', 'PMM': 'person-masked-medical', 'PMN': 'person-masked-non-medical', 'MIXED': 'mixed'}\n"
     ]
    }
   ],
   "source": [
    "DATASET_DIR = \"./dataset\"\n",
    "IMAGE_DIR = \"./images\"\n",
    "\n",
    "with open(f'{DATASET_DIR}/catalog.json') as json_file:\n",
    "    catalog = json.load(json_file)\n",
    "print(catalog)"
   ]
  },
  {
   "cell_type": "markdown",
   "metadata": {},
   "source": [
    "## Define Augmentations"
   ]
  },
  {
   "cell_type": "code",
   "execution_count": 3,
   "metadata": {},
   "outputs": [],
   "source": [
    "RANDOM_SEED = 42\n",
    "random.seed(RANDOM_SEED)\n",
    "\n",
    "def random_augmentation(img):\n",
    "    augments = []\n",
    "    aug_type = random.randint(0, 5)\n",
    "    if aug_type == 1: augments.extend(aug.rgb_shift(img, 15))\n",
    "    if aug_type == 2: augments.extend(aug.channel_shuffle(img))\n",
    "    if aug_type == 3: augments.extend(aug.channel_shuffle(img))\n",
    "    if aug_type == 4: augments.extend(aug.enhancements(img, factors=(0.5, 0.5, 0.1, 0.3)))\n",
    "    if aug_type == 5: augments.extend(aug.blur(img, radius=3))\n",
    "    return augments"
   ]
  },
  {
   "cell_type": "code",
   "execution_count": 4,
   "metadata": {},
   "outputs": [],
   "source": [
    "def read_pascal_voc(image_path):\n",
    "    end_index = image_path.rindex('.')\n",
    "    xml_path = image_path[0:end_index] + '.xml'\n",
    "    annotations = annotation_from_xml(xml_path)\n",
    "    return annotations\n",
    "\n",
    "def copy_annotation_file(image_path, path_annotation_file):\n",
    "    pascal_voc = read_pascal_voc(image_path)\n",
    "    xml = pascal_voc.to_xml()\n",
    "    save_xml(path_annotation_file, xml)\n",
    "    #with open(path_annotation_file, 'w') as file:\n",
    "    #    file.write(str(pascal_voc))"
   ]
  },
  {
   "cell_type": "code",
   "execution_count": 5,
   "metadata": {},
   "outputs": [
    {
     "name": "stdout",
     "output_type": "stream",
     "text": [
      "Processing MM...\n",
      "Processing PM...\n",
      "Processing PMM...\n",
      "Processing PMN...\n",
      "Processing MIXED...\n"
     ]
    }
   ],
   "source": [
    "IMAGE_AUG_DIR = \"./images-aug\"\n",
    "for class_dir in catalog.keys():\n",
    "    create_directory(f'{IMAGE_AUG_DIR}/train/{class_dir}')\n",
    "    print(f'Processing {class_dir}...')\n",
    "    \n",
    "    image_paths = list_images(f'{IMAGE_DIR}/train/{class_dir}')\n",
    "    for image_path in image_paths:\n",
    "        img = Image.open(image_path)\n",
    "        augments = random_augmentation(img)\n",
    "        for _, [suffix, aug_img] in enumerate(augments):\n",
    "            file_name, file_ext = image_path.split(\"/\")[-1].split(\".\")\n",
    "            aug_file_path = f'{IMAGE_AUG_DIR}/train/{class_dir}/{file_name}_{suffix}'\n",
    "            aug_img.save(f'{aug_file_path}.{file_ext}')\n",
    "            copy_annotation_file(image_path, f'{aug_file_path}.xml')"
   ]
  }
 ],
 "metadata": {
  "kernelspec": {
   "display_name": ".venv",
   "language": "python",
   "name": "python3"
  },
  "language_info": {
   "codemirror_mode": {
    "name": "ipython",
    "version": 3
   },
   "file_extension": ".py",
   "mimetype": "text/x-python",
   "name": "python",
   "nbconvert_exporter": "python",
   "pygments_lexer": "ipython3",
   "version": "3.11.0rc1"
  }
 },
 "nbformat": 4,
 "nbformat_minor": 2
}
