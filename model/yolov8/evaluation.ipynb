{
 "cells": [
  {
   "cell_type": "code",
   "execution_count": null,
   "metadata": {},
   "outputs": [],
   "source": [
    "import os, sys\n",
    "parent_dir = os.path.abspath('..')\n",
    "if not parent_dir in sys.path:\n",
    "    sys.path.append(parent_dir)"
   ]
  },
  {
   "cell_type": "code",
   "execution_count": null,
   "metadata": {},
   "outputs": [],
   "source": [
    "import matplotlib.pyplot as plt\n",
    "import matplotlib.patches as patches\n",
    "from PIL import Image\n",
    "from ultralytics import YOLO\n",
    "import ultralytics\n",
    "ultralytics.checks()\n",
    "from lib.images import list_images"
   ]
  },
  {
   "cell_type": "code",
   "execution_count": null,
   "metadata": {},
   "outputs": [],
   "source": [
    "model = YOLO(\"runs/detect/train5/weights/best.pt\")"
   ]
  },
  {
   "cell_type": "code",
   "execution_count": null,
   "metadata": {},
   "outputs": [],
   "source": [
    "model.info()"
   ]
  },
  {
   "cell_type": "code",
   "execution_count": null,
   "metadata": {},
   "outputs": [],
   "source": [
    "def get_bounding_boxes(results):\n",
    "    bb = []\n",
    "    index = 0\n",
    "    for box in results[0].boxes:\n",
    "        class_name = results[0].names[box.cls.int().item()]\n",
    "        bb.append((class_name, box.xyxy[0], box.conf.item()))\n",
    "        index += 1\n",
    "    return bb\n",
    "\n",
    "def detect_objects(image_path, ax):\n",
    "    results = model(image_path)\n",
    "\n",
    "    image = Image.open(image_path)\n",
    "    ax.imshow(image)\n",
    "\n",
    "    # Create a rectangle patch and label for each bounding box\n",
    "    edgecolors = ['r', 'g', 'b', 'y', 'm', 'c']\n",
    "    i = 0\n",
    "    for class_name, box, conf in get_bounding_boxes(results):\n",
    "        edgecolor = edgecolors[i % len(edgecolors)]\n",
    "        print(f\"{class_name}: {conf:.2f} ({edgecolor})\")\n",
    "        rect = patches.Rectangle((box[0], box[1]), box[2]-box[0], box[3]-box[1], linewidth=1, edgecolor=edgecolor, facecolor='none')\n",
    "        ax.text(box[0], box[1], class_name, color='white', fontsize=8)\n",
    "        ax.add_patch(rect)\n",
    "        i += 1"
   ]
  },
  {
   "cell_type": "code",
   "execution_count": null,
   "metadata": {},
   "outputs": [],
   "source": [
    "IMAGE_DIR = '../images-yolo/test'\n",
    "image_paths = list_images(IMAGE_DIR)\n",
    "\n",
    "for image_path in image_paths:\n",
    "    fig, ax = plt.subplots(figsize=(8, 8))\n",
    "    detect_objects(image_path, ax)\n",
    "    plt.show()"
   ]
  }
 ],
 "metadata": {
  "kernelspec": {
   "display_name": ".venv",
   "language": "python",
   "name": "python3"
  },
  "language_info": {
   "codemirror_mode": {
    "name": "ipython",
    "version": 3
   },
   "file_extension": ".py",
   "mimetype": "text/x-python",
   "name": "python",
   "nbconvert_exporter": "python",
   "pygments_lexer": "ipython3",
   "version": "3.11.0"
  }
 },
 "nbformat": 4,
 "nbformat_minor": 2
}
