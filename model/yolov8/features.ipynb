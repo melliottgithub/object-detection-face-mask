{
 "cells": [
  {
   "cell_type": "code",
   "execution_count": 5,
   "metadata": {},
   "outputs": [],
   "source": [
    "import os, sys\n",
    "parent_dir = os.path.abspath('..')\n",
    "if not parent_dir in sys.path:\n",
    "    sys.path.append(parent_dir)"
   ]
  },
  {
   "cell_type": "code",
   "execution_count": 6,
   "metadata": {},
   "outputs": [],
   "source": [
    "import json\n",
    "from ultralytics import YOLO\n",
    "from pascal import annotation_from_xml\n",
    "from lib.images import read_image_file\n",
    "from lib.file_utils import get_subdirectories, create_directory, list_images"
   ]
  },
  {
   "cell_type": "code",
   "execution_count": 7,
   "metadata": {},
   "outputs": [
    {
     "data": {
      "text/plain": [
       "{'medical-mask': 0,\n",
       " 'person-mask': 1,\n",
       " 'person-masked-medical': 2,\n",
       " 'person-masked-non-medical': 3}"
      ]
     },
     "execution_count": 7,
     "metadata": {},
     "output_type": "execute_result"
    }
   ],
   "source": [
    "IMAGES_DIR = \"../images\"\n",
    "labels_map = {}\n",
    "with open(f'{IMAGES_DIR}/class-names.txt') as f:\n",
    "    for idx, line in enumerate(f):\n",
    "        labels_map[line.strip()] = idx\n",
    "labels_map"
   ]
  },
  {
   "cell_type": "code",
   "execution_count": 8,
   "metadata": {},
   "outputs": [],
   "source": [
    "def read_pascal_voc(image_path):\n",
    "    end_index = image_path.rindex('.')\n",
    "    xml_path = image_path[0:end_index] + '.xml'\n",
    "    annotations = annotation_from_xml(xml_path)\n",
    "    return annotations"
   ]
  },
  {
   "cell_type": "code",
   "execution_count": 9,
   "metadata": {},
   "outputs": [
    {
     "name": "stdout",
     "output_type": "stream",
     "text": [
      "Processing 6 images in test dataset\n",
      "Processing 6 images in test dataset\n",
      "Processing 6 images in test dataset\n",
      "Processing 5 images in test dataset\n",
      "Processing 6 images in test dataset\n",
      "Processing 43 images in train dataset\n",
      "Processing 53 images in train dataset\n",
      "Processing 52 images in train dataset\n",
      "Processing 39 images in train dataset\n",
      "Processing 49 images in train dataset\n"
     ]
    }
   ],
   "source": [
    "IMAGE_TARGET_DIR = '../images-yolo'\n",
    "create_directory(IMAGE_TARGET_DIR)\n",
    "\n",
    "for dataset_type in ['test', 'train']:\n",
    "    target_base_dir = f'{IMAGE_TARGET_DIR}/{dataset_type}'\n",
    "    create_directory(target_base_dir)\n",
    "\n",
    "    for class_dir in get_subdirectories(f'{IMAGES_DIR}/{dataset_type}'):\n",
    "        images = list_images(f\"{IMAGES_DIR}/{dataset_type}/{class_dir}\")\n",
    "        if dataset_type == 'train':\n",
    "            images.extend(list_images(f\"{IMAGES_DIR}-aug/{dataset_type}/{class_dir}\"))\n",
    "\n",
    "        print(f\"Processing {len(images)} images in {dataset_type} dataset\")\n",
    "        \n",
    "        for image_path in images:\n",
    "            annotation = read_pascal_voc(image_path)\n",
    "            img = read_image_file(image_path)\n",
    "            \n",
    "            # rename image file\n",
    "            image_filename = class_dir.lower() + '-' + os.path.basename(image_path)\n",
    "            \n",
    "            img.save(f'{target_base_dir}/{image_filename}')\n",
    "            yolo_annotation_path = f'{target_base_dir}/{image_filename[0:-4]}.txt'\n",
    "            with open(yolo_annotation_path, 'w') as f:\n",
    "                f.write(annotation.to_yolo(labels_map, precision=6))"
   ]
  }
 ],
 "metadata": {
  "kernelspec": {
   "display_name": ".venv",
   "language": "python",
   "name": "python3"
  },
  "language_info": {
   "codemirror_mode": {
    "name": "ipython",
    "version": 3
   },
   "file_extension": ".py",
   "mimetype": "text/x-python",
   "name": "python",
   "nbconvert_exporter": "python",
   "pygments_lexer": "ipython3",
   "version": "3.11.0"
  }
 },
 "nbformat": 4,
 "nbformat_minor": 2
}
