{
 "cells": [
  {
   "cell_type": "markdown",
   "metadata": {},
   "source": [
    "# Image preprocessing"
   ]
  },
  {
   "cell_type": "code",
   "execution_count": 1,
   "metadata": {},
   "outputs": [],
   "source": [
    "import json\n",
    "import random\n",
    "from lib.file_utils import create_directory\n",
    "from lib.images import list_images, read_image_file, get_image_properties\n",
    "from lib.images import rotate_image_portrait, scale_image, convert_to_rgb, crop_center"
   ]
  },
  {
   "cell_type": "markdown",
   "metadata": {},
   "source": [
    "## Centering the image and standardizing"
   ]
  },
  {
   "cell_type": "code",
   "execution_count": 2,
   "metadata": {},
   "outputs": [],
   "source": [
    "def scale_and_center(img, image_size):\n",
    "    is_landscape = img.width > img.height\n",
    "    img = rotate_image_portrait(img)\n",
    "    props = get_image_properties(img)\n",
    "\n",
    "    if props['width'] >= image_size:\n",
    "        img = scale_image(img, target_width=image_size)\n",
    "        props = get_image_properties(img)\n",
    "        \n",
    "        if props['height'] >= image_size:\n",
    "            img = crop_center(img, target_height=image_size)\n",
    "            img = convert_to_rgb(img)\n",
    "            return img.rotate(-90) if is_landscape else img\n",
    "        else:\n",
    "            raise Exception(f\"Image is {props['height']} px height.\")\n",
    "            \n",
    "    else:\n",
    "        raise Exception(f\"Image is {props['width']} px width.\")"
   ]
  },
  {
   "cell_type": "code",
   "execution_count": 3,
   "metadata": {},
   "outputs": [],
   "source": [
    "def split_dataset(list, train_ratio=0.8, random_seed=42):\n",
    "    random.seed(random_seed)\n",
    "    random.shuffle(list)\n",
    "    train_size = int(len(list) * train_ratio)\n",
    "    train = list[:train_size]\n",
    "    test = list[train_size:]\n",
    "    return train, test"
   ]
  },
  {
   "cell_type": "markdown",
   "metadata": {},
   "source": [
    "## Read labeled dataset"
   ]
  },
  {
   "cell_type": "code",
   "execution_count": 4,
   "metadata": {},
   "outputs": [
    {
     "name": "stdout",
     "output_type": "stream",
     "text": [
      "{'MM': 'medical-mask', 'PM': 'person-mask', 'PMM': 'person-masked-medical', 'PMN': 'person-masked-non-medical'}\n"
     ]
    }
   ],
   "source": [
    "DATASET_DIR = \"./dataset\"\n",
    "TARGET_DIR = \"./images\"\n",
    "\n",
    "with open(f'{DATASET_DIR}/catalog.json') as json_file:\n",
    "    catalog = json.load(json_file)\n",
    "print(catalog)"
   ]
  },
  {
   "cell_type": "markdown",
   "metadata": {},
   "source": [
    "## Write labels file"
   ]
  },
  {
   "cell_type": "code",
   "execution_count": 5,
   "metadata": {},
   "outputs": [],
   "source": [
    "create_directory(TARGET_DIR)\n",
    "with open(f'{TARGET_DIR}/class-names.txt', 'w') as f:\n",
    "    f.write('\\n'.join(catalog.values()))"
   ]
  },
  {
   "cell_type": "markdown",
   "metadata": {},
   "source": [
    "## Create train and test datasets"
   ]
  },
  {
   "cell_type": "code",
   "execution_count": 6,
   "metadata": {},
   "outputs": [
    {
     "name": "stdout",
     "output_type": "stream",
     "text": [
      "Processing MM...\n"
     ]
    },
    {
     "name": "stdout",
     "output_type": "stream",
     "text": [
      "Processing PM...\n",
      "Processing PMM...\n",
      "Processing PMN...\n"
     ]
    }
   ],
   "source": [
    "IMAGE_SIZE = 720\n",
    "for class_dir in catalog.keys():\n",
    "    create_directory(f'{TARGET_DIR}/train/{class_dir}')\n",
    "    create_directory(f'{TARGET_DIR}/test/{class_dir}')\n",
    "    print(f'Processing {class_dir}...')\n",
    "    \n",
    "    train, test = split_dataset(list_images(f'{DATASET_DIR}/{class_dir}'))\n",
    "\n",
    "    for dataset_type, image_paths in zip(['train','test'],[train, test]):\n",
    "        for path in image_paths:\n",
    "            filename = path.split('/')[-1]\n",
    "            output_path = f'{TARGET_DIR}/{dataset_type}/{class_dir}/{filename}'\n",
    "            \n",
    "            try:\n",
    "                img = read_image_file(path)\n",
    "                img = scale_and_center(img, IMAGE_SIZE)\n",
    "                img.save(output_path)\n",
    "            except Exception as e:\n",
    "                print(f'Error processing {path}: {e}')\n",
    "                continue"
   ]
  }
 ],
 "metadata": {
  "kernelspec": {
   "display_name": ".venv",
   "language": "python",
   "name": "python3"
  },
  "language_info": {
   "codemirror_mode": {
    "name": "ipython",
    "version": 3
   },
   "file_extension": ".py",
   "mimetype": "text/x-python",
   "name": "python",
   "nbconvert_exporter": "python",
   "pygments_lexer": "ipython3",
   "version": "3.11.0"
  }
 },
 "nbformat": 4,
 "nbformat_minor": 2
}
