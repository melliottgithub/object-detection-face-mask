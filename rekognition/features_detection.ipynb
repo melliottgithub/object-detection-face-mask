{
 "cells": [
  {
   "cell_type": "code",
   "execution_count": 1,
   "metadata": {},
   "outputs": [],
   "source": [
    "import os, sys\n",
    "parent_dir = os.path.abspath('..')\n",
    "if not parent_dir in sys.path:\n",
    "    sys.path.append(parent_dir)"
   ]
  },
  {
   "cell_type": "code",
   "execution_count": 2,
   "metadata": {},
   "outputs": [],
   "source": [
    "import json\n",
    "import boto3\n",
    "from dotenv import dotenv_values\n",
    "config = dotenv_values(\".env\")\n",
    "from pascal import annotation_from_xml\n",
    "from rekog import pascal_voc_to_manifest_line\n",
    "from lib.file_utils import list_images"
   ]
  },
  {
   "cell_type": "code",
   "execution_count": 3,
   "metadata": {},
   "outputs": [],
   "source": [
    "session = boto3.Session(profile_name=config['AWS_PROFILE'])\n",
    "s3_client = session.client('s3')"
   ]
  },
  {
   "cell_type": "markdown",
   "metadata": {},
   "source": [
    "## Read dataset labels"
   ]
  },
  {
   "cell_type": "code",
   "execution_count": 4,
   "metadata": {},
   "outputs": [
    {
     "name": "stdout",
     "output_type": "stream",
     "text": [
      "{'MM': 'medical-mask', 'PM': 'person-mask', 'PMM': 'person-masked-medical', 'PMN': 'person-masked-non-medical'}\n"
     ]
    }
   ],
   "source": [
    "DATASET_DIR = \"../dataset\"\n",
    "with open(f'{DATASET_DIR}/catalog.json') as json_file:\n",
    "    catalog = json.load(json_file)\n",
    "print(catalog)"
   ]
  },
  {
   "cell_type": "code",
   "execution_count": 5,
   "metadata": {},
   "outputs": [
    {
     "data": {
      "text/plain": [
       "{'0': 'medical-mask',\n",
       " '1': 'person-mask',\n",
       " '2': 'person-masked-medical',\n",
       " '3': 'person-masked-non-medical'}"
      ]
     },
     "execution_count": 5,
     "metadata": {},
     "output_type": "execute_result"
    }
   ],
   "source": [
    "class_map = {}\n",
    "for index, class_name in zip(range(len(catalog)), catalog.values()):\n",
    "    class_map[str(index)] = class_name\n",
    "class_map"
   ]
  },
  {
   "cell_type": "code",
   "execution_count": 6,
   "metadata": {},
   "outputs": [],
   "source": [
    "def read_pascal_voc(image_path):\n",
    "    end_index = image_path.rindex('.')\n",
    "    xml_path = image_path[0:end_index] + '.xml'\n",
    "    annotations = annotation_from_xml(xml_path)\n",
    "    return annotations"
   ]
  },
  {
   "cell_type": "code",
   "execution_count": 7,
   "metadata": {},
   "outputs": [],
   "source": [
    "def add_images(s3_client, images, s3_bucket, s3_key_prefix):\n",
    "    manifest_lines = []\n",
    "    \n",
    "    for image_path in images:\n",
    "        annotation = read_pascal_voc(image_path)\n",
    "        s3_key = f\"{s3_key_prefix}/{image_path.split('/')[-1]}\"\n",
    "        image_src = f's3://{s3_bucket}/{s3_key}'\n",
    "        manifest_line = pascal_voc_to_manifest_line(job_name='face-mask-job',\n",
    "                                                    annotation=annotation, class_map=class_map,\n",
    "                                                    image_src=image_src)\n",
    "        manifest_lines.append(manifest_line)\n",
    "        s3_client.upload_file(image_path, s3_bucket, s3_key)\n",
    "        \n",
    "    return manifest_lines"
   ]
  },
  {
   "cell_type": "markdown",
   "metadata": {},
   "source": [
    "## Upload images with manifest (annotations)"
   ]
  },
  {
   "cell_type": "code",
   "execution_count": 8,
   "metadata": {},
   "outputs": [
    {
     "name": "stdout",
     "output_type": "stream",
     "text": [
      "Uploaded 23 images for test dataset\n",
      "Uploaded 88 images for train dataset\n"
     ]
    }
   ],
   "source": [
    "IMAGES_DIR = \"../images\"\n",
    "DATASET_BUCKET = config['REKOG_DATASET_BUCKET']\n",
    "\n",
    "for dataset_type in ['test', 'train']:\n",
    "    manifest_lines = []\n",
    "\n",
    "    for class_dir, class_name in catalog.items():\n",
    "        images = list_images(f\"{IMAGES_DIR}/{dataset_type}/{class_dir}\")\n",
    "        lines = add_images(s3_client, images, DATASET_BUCKET, f'{dataset_type}/{class_dir}')\n",
    "        manifest_lines.extend(lines)\n",
    "\n",
    "    manifest = '\\n'.join(manifest_lines).encode('utf-8')\n",
    "    s3_client.put_object(Body=manifest,\n",
    "                         Bucket=DATASET_BUCKET, Key=f'{dataset_type}/manifest.json')\n",
    "    print(f'Uploaded {len(manifest_lines)} images for {dataset_type} dataset')"
   ]
  }
 ],
 "metadata": {
  "kernelspec": {
   "display_name": ".venv",
   "language": "python",
   "name": "python3"
  },
  "language_info": {
   "codemirror_mode": {
    "name": "ipython",
    "version": 3
   },
   "file_extension": ".py",
   "mimetype": "text/x-python",
   "name": "python",
   "nbconvert_exporter": "python",
   "pygments_lexer": "ipython3",
   "version": "3.11.0"
  }
 },
 "nbformat": 4,
 "nbformat_minor": 2
}
