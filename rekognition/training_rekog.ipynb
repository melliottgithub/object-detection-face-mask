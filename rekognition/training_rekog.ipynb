{
 "cells": [
  {
   "cell_type": "code",
   "execution_count": 1,
   "metadata": {},
   "outputs": [],
   "source": [
    "import boto3\n",
    "from dotenv import dotenv_values\n",
    "config = dotenv_values(\".env\")\n",
    "from rekog import train_new_model, find_project, delete_datasets, find_project_version"
   ]
  },
  {
   "cell_type": "code",
   "execution_count": 2,
   "metadata": {},
   "outputs": [],
   "source": [
    "session = boto3.Session(profile_name=config['AWS_PROFILE'])\n",
    "rekognition_client = session.client(\"rekognition\")"
   ]
  },
  {
   "cell_type": "code",
   "execution_count": 3,
   "metadata": {},
   "outputs": [],
   "source": [
    "DATASET_BUCKET = config['REKOG_DATASET_BUCKET']\n",
    "OUTPUT_S3_BUCKET = 'custom-labels-console-us-east-1-f39e7197e5'"
   ]
  },
  {
   "cell_type": "code",
   "execution_count": 4,
   "metadata": {},
   "outputs": [],
   "source": [
    "project = find_project(rekognition_client, config['REKOG_PROJECT_ARN'])\n",
    "delete_datasets(rekognition_client, project)"
   ]
  },
  {
   "cell_type": "code",
   "execution_count": 5,
   "metadata": {},
   "outputs": [
    {
     "data": {
      "text/plain": [
       "'arn:aws:rekognition:us-east-1:391874106884:project/face-mask/version/version.2024-01-13T003648/1705127808550'"
      ]
     },
     "execution_count": 5,
     "metadata": {},
     "output_type": "execute_result"
    }
   ],
   "source": [
    "train_new_model(rekognition_client,\n",
    "                project_arn=config['REKOG_PROJECT_ARN'], \n",
    "                output_s3_bucket=OUTPUT_S3_BUCKET,\n",
    "                training_manifest_s3_uri=f\"s3://{DATASET_BUCKET}/train/manifest.json\",\n",
    "                testing_manifest_s3_uri=f\"s3://{DATASET_BUCKET}/test/manifest.json\")"
   ]
  },
  {
   "cell_type": "code",
   "execution_count": 6,
   "metadata": {},
   "outputs": [
    {
     "name": "stdout",
     "output_type": "stream",
     "text": [
      "TRAINING_IN_PROGRESS\n",
      "The model is being trained.\n"
     ]
    }
   ],
   "source": [
    "project_version = find_project_version(rekognition_client, config['REKOG_PROJECT_ARN'], 'version.2024-01-13T003648')\n",
    "print(project_version['Status'])\n",
    "print(project_version['StatusMessage']) "
   ]
  }
 ],
 "metadata": {
  "kernelspec": {
   "display_name": ".venv",
   "language": "python",
   "name": "python3"
  },
  "language_info": {
   "codemirror_mode": {
    "name": "ipython",
    "version": 3
   },
   "file_extension": ".py",
   "mimetype": "text/x-python",
   "name": "python",
   "nbconvert_exporter": "python",
   "pygments_lexer": "ipython3",
   "version": "3.11.0rc1"
  }
 },
 "nbformat": 4,
 "nbformat_minor": 2
}
